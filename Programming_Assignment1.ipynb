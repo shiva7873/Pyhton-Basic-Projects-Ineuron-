{
 "cells": [
  {
   "cell_type": "code",
   "execution_count": 1,
   "id": "140e0e76",
   "metadata": {},
   "outputs": [
    {
     "name": "stdout",
     "output_type": "stream",
     "text": [
      "Hello Python\n"
     ]
    }
   ],
   "source": [
    "#Write a Python program to print \"Hello Python\"?\n",
    "\n",
    "print('Hello Python')"
   ]
  },
  {
   "cell_type": "code",
   "execution_count": null,
   "id": "9a04dae8",
   "metadata": {},
   "outputs": [],
   "source": [
    "#Write a Python program to do arithmetical operations addition and division.?\n",
    "\n",
    "a = int(input('enter your first number: '))\n",
    "b = int(input('enter your second number: '))\n",
    "\n",
    "print('sum of entered numbers is', a+b)\n",
    "print('division of entered numbers is ' , a/b)\n",
    "\n"
   ]
  },
  {
   "cell_type": "code",
   "execution_count": 2,
   "id": "97bc9af0",
   "metadata": {},
   "outputs": [
    {
     "name": "stdout",
     "output_type": "stream",
     "text": [
      "enter your length: 10\n",
      "enter your base: 5\n",
      "25.0\n"
     ]
    }
   ],
   "source": [
    "#Write a Python program to find the area of a triangle?\n",
    "\n",
    "l = int(input('enter your length: '))\n",
    "b = int(input('enter your base: '))\n",
    "\n",
    "area = 1/2*l*b\n",
    "\n",
    "print(area)"
   ]
  },
  {
   "cell_type": "code",
   "execution_count": 3,
   "id": "80cb9790",
   "metadata": {},
   "outputs": [],
   "source": [
    "#Write a Python program to swap two variables?\n",
    "\n",
    "a = 5\n",
    "b = 10\n",
    "\n",
    "a,b = b,a"
   ]
  },
  {
   "cell_type": "code",
   "execution_count": 8,
   "id": "d0812ba1",
   "metadata": {},
   "outputs": [
    {
     "name": "stdout",
     "output_type": "stream",
     "text": [
      "58\n"
     ]
    }
   ],
   "source": [
    "#Write a Python program to generate a random number?\n",
    "\n",
    "import random\n",
    "\n",
    "print(random.randint(0,100))"
   ]
  },
  {
   "cell_type": "code",
   "execution_count": null,
   "id": "29e344a6",
   "metadata": {},
   "outputs": [],
   "source": []
  },
  {
   "cell_type": "code",
   "execution_count": null,
   "id": "dba51add",
   "metadata": {},
   "outputs": [],
   "source": []
  },
  {
   "cell_type": "code",
   "execution_count": null,
   "id": "6fec66f7",
   "metadata": {},
   "outputs": [],
   "source": []
  }
 ],
 "metadata": {
  "kernelspec": {
   "display_name": "Python 3 (ipykernel)",
   "language": "python",
   "name": "python3"
  },
  "language_info": {
   "codemirror_mode": {
    "name": "ipython",
    "version": 3
   },
   "file_extension": ".py",
   "mimetype": "text/x-python",
   "name": "python",
   "nbconvert_exporter": "python",
   "pygments_lexer": "ipython3",
   "version": "3.9.12"
  }
 },
 "nbformat": 4,
 "nbformat_minor": 5
}
